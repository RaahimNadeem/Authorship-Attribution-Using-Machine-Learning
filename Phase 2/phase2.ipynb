{
  "cells": [
    {
      "attachments": {},
      "cell_type": "markdown",
      "metadata": {},
      "source": [
        "Roll Numbers\n",
        "\n",
        "24100049\n",
        "24100032\n",
        "24100192\n",
        "24100072\n",
        "24100181"
      ]
    },
    {
      "cell_type": "code",
      "execution_count": null,
      "metadata": {
        "colab": {
          "base_uri": "https://localhost:8080/"
        },
        "id": "G0PA_tXwsgEZ",
        "outputId": "7755092f-8395-43a6-bc35-7d9199ede017"
      },
      "outputs": [
        {
          "name": "stdout",
          "output_type": "stream",
          "text": [
            "Mounted at /content/drive\n"
          ]
        }
      ],
      "source": [
        "from google.colab import drive\n",
        "drive.mount('/content/drive')"
      ]
    },
    {
      "cell_type": "code",
      "execution_count": null,
      "metadata": {
        "colab": {
          "base_uri": "https://localhost:8080/"
        },
        "id": "XgQxCq_ebkB-",
        "outputId": "a283f10c-7274-4af6-eede-e6fc8896de2b"
      },
      "outputs": [
        {
          "name": "stdout",
          "output_type": "stream",
          "text": [
            "Looking in indexes: https://pypi.org/simple, https://us-python.pkg.dev/colab-wheels/public/simple/\n",
            "Collecting sentence-transformers\n",
            "  Downloading sentence-transformers-2.2.2.tar.gz (85 kB)\n",
            "\u001b[K     |████████████████████████████████| 85 kB 4.9 MB/s \n",
            "\u001b[?25hCollecting transformers<5.0.0,>=4.6.0\n",
            "  Downloading transformers-4.25.1-py3-none-any.whl (5.8 MB)\n",
            "\u001b[K     |████████████████████████████████| 5.8 MB 69.3 MB/s \n",
            "\u001b[?25hRequirement already satisfied: tqdm in /usr/local/lib/python3.8/dist-packages (from sentence-transformers) (4.64.1)\n",
            "Requirement already satisfied: torch>=1.6.0 in /usr/local/lib/python3.8/dist-packages (from sentence-transformers) (1.13.0+cu116)\n",
            "Requirement already satisfied: torchvision in /usr/local/lib/python3.8/dist-packages (from sentence-transformers) (0.14.0+cu116)\n",
            "Requirement already satisfied: numpy in /usr/local/lib/python3.8/dist-packages (from sentence-transformers) (1.21.6)\n",
            "Requirement already satisfied: scikit-learn in /usr/local/lib/python3.8/dist-packages (from sentence-transformers) (1.0.2)\n",
            "Requirement already satisfied: scipy in /usr/local/lib/python3.8/dist-packages (from sentence-transformers) (1.7.3)\n",
            "Requirement already satisfied: nltk in /usr/local/lib/python3.8/dist-packages (from sentence-transformers) (3.7)\n",
            "Collecting sentencepiece\n",
            "  Downloading sentencepiece-0.1.97-cp38-cp38-manylinux_2_17_x86_64.manylinux2014_x86_64.whl (1.3 MB)\n",
            "\u001b[K     |████████████████████████████████| 1.3 MB 43.9 MB/s \n",
            "\u001b[?25hCollecting huggingface-hub>=0.4.0\n",
            "  Downloading huggingface_hub-0.11.1-py3-none-any.whl (182 kB)\n",
            "\u001b[K     |████████████████████████████████| 182 kB 76.6 MB/s \n",
            "\u001b[?25hRequirement already satisfied: filelock in /usr/local/lib/python3.8/dist-packages (from huggingface-hub>=0.4.0->sentence-transformers) (3.8.0)\n",
            "Requirement already satisfied: typing-extensions>=3.7.4.3 in /usr/local/lib/python3.8/dist-packages (from huggingface-hub>=0.4.0->sentence-transformers) (4.4.0)\n",
            "Requirement already satisfied: pyyaml>=5.1 in /usr/local/lib/python3.8/dist-packages (from huggingface-hub>=0.4.0->sentence-transformers) (6.0)\n",
            "Requirement already satisfied: packaging>=20.9 in /usr/local/lib/python3.8/dist-packages (from huggingface-hub>=0.4.0->sentence-transformers) (21.3)\n",
            "Requirement already satisfied: requests in /usr/local/lib/python3.8/dist-packages (from huggingface-hub>=0.4.0->sentence-transformers) (2.23.0)\n",
            "Requirement already satisfied: pyparsing!=3.0.5,>=2.0.2 in /usr/local/lib/python3.8/dist-packages (from packaging>=20.9->huggingface-hub>=0.4.0->sentence-transformers) (3.0.9)\n",
            "Requirement already satisfied: regex!=2019.12.17 in /usr/local/lib/python3.8/dist-packages (from transformers<5.0.0,>=4.6.0->sentence-transformers) (2022.6.2)\n",
            "Collecting tokenizers!=0.11.3,<0.14,>=0.11.1\n",
            "  Downloading tokenizers-0.13.2-cp38-cp38-manylinux_2_17_x86_64.manylinux2014_x86_64.whl (7.6 MB)\n",
            "\u001b[K     |████████████████████████████████| 7.6 MB 64.1 MB/s \n",
            "\u001b[?25hRequirement already satisfied: joblib in /usr/local/lib/python3.8/dist-packages (from nltk->sentence-transformers) (1.2.0)\n",
            "Requirement already satisfied: click in /usr/local/lib/python3.8/dist-packages (from nltk->sentence-transformers) (7.1.2)\n",
            "Requirement already satisfied: idna<3,>=2.5 in /usr/local/lib/python3.8/dist-packages (from requests->huggingface-hub>=0.4.0->sentence-transformers) (2.10)\n",
            "Requirement already satisfied: urllib3!=1.25.0,!=1.25.1,<1.26,>=1.21.1 in /usr/local/lib/python3.8/dist-packages (from requests->huggingface-hub>=0.4.0->sentence-transformers) (1.24.3)\n",
            "Requirement already satisfied: chardet<4,>=3.0.2 in /usr/local/lib/python3.8/dist-packages (from requests->huggingface-hub>=0.4.0->sentence-transformers) (3.0.4)\n",
            "Requirement already satisfied: certifi>=2017.4.17 in /usr/local/lib/python3.8/dist-packages (from requests->huggingface-hub>=0.4.0->sentence-transformers) (2022.9.24)\n",
            "Requirement already satisfied: threadpoolctl>=2.0.0 in /usr/local/lib/python3.8/dist-packages (from scikit-learn->sentence-transformers) (3.1.0)\n",
            "Requirement already satisfied: pillow!=8.3.*,>=5.3.0 in /usr/local/lib/python3.8/dist-packages (from torchvision->sentence-transformers) (7.1.2)\n",
            "Building wheels for collected packages: sentence-transformers\n",
            "  Building wheel for sentence-transformers (setup.py) ... \u001b[?25l\u001b[?25hdone\n",
            "  Created wheel for sentence-transformers: filename=sentence_transformers-2.2.2-py3-none-any.whl size=125938 sha256=5a77cc052c05c1e0ab249fbd7d95a756f165fb8926432254958a514d518ac8f4\n",
            "  Stored in directory: /root/.cache/pip/wheels/5e/6f/8c/d88aec621f3f542d26fac0342bef5e693335d125f4e54aeffe\n",
            "Successfully built sentence-transformers\n",
            "Installing collected packages: tokenizers, huggingface-hub, transformers, sentencepiece, sentence-transformers\n",
            "Successfully installed huggingface-hub-0.11.1 sentence-transformers-2.2.2 sentencepiece-0.1.97 tokenizers-0.13.2 transformers-4.25.1\n"
          ]
        }
      ],
      "source": [
        "!pip install -U sentence-transformers                         #installing the sentence-transformers module on Colab (remove for VS Code)"
      ]
    },
    {
      "cell_type": "code",
      "execution_count": null,
      "metadata": {
        "id": "bEFcX5WiyyEm"
      },
      "outputs": [],
      "source": [
        "#importing relevant libraries\n",
        "import pandas as pd\n",
        "import numpy as np\n",
        "from string import punctuation\n",
        "from sentence_transformers import SentenceTransformer\n",
        "from sklearn.model_selection import cross_val_score\n",
        "from sklearn.model_selection import train_test_split\n",
        "from sklearn.neighbors import KNeighborsClassifier\n",
        "from sklearn.neural_network import MLPClassifier\n",
        "from sklearn.model_selection import cross_val_predict, RandomizedSearchCV,cross_validate\n",
        "from sklearn.metrics import classification_report, confusion_matrix, accuracy_score\n",
        "from sklearn.ensemble import BaggingClassifier, VotingClassifier, AdaBoostClassifier, RandomForestClassifier\n",
        "import matplotlib.pyplot as plt\n",
        "import seaborn as sns\n",
        "from sklearn.model_selection import validation_curve\n",
        "from sklearn.model_selection import GridSearchCV\n"
      ]
    },
    {
      "cell_type": "markdown",
      "metadata": {
        "id": "S2E9sKnMbjDu"
      },
      "source": [
        "# Reading Data"
      ]
    },
    {
      "cell_type": "code",
      "execution_count": 135,
      "metadata": {
        "colab": {
          "base_uri": "https://localhost:8080/",
          "height": 49
        },
        "id": "BY6Z0bzbbjDw",
        "outputId": "10677905-db4a-45d1-9af9-ad8445386a9c"
      },
      "outputs": [
        {
          "data": {
            "text/html": [
              "\n",
              "  <div id=\"df-27ddf31b-3beb-49ab-bef6-6d9741dd32f0\">\n",
              "    <div class=\"colab-df-container\">\n",
              "      <div>\n",
              "<style scoped>\n",
              "    .dataframe tbody tr th:only-of-type {\n",
              "        vertical-align: middle;\n",
              "    }\n",
              "\n",
              "    .dataframe tbody tr th {\n",
              "        vertical-align: top;\n",
              "    }\n",
              "\n",
              "    .dataframe thead th {\n",
              "        text-align: right;\n",
              "    }\n",
              "</style>\n",
              "<table border=\"1\" class=\"dataframe\">\n",
              "  <thead>\n",
              "    <tr style=\"text-align: right;\">\n",
              "      <th></th>\n",
              "      <th>tweet</th>\n",
              "      <th>label</th>\n",
              "    </tr>\n",
              "  </thead>\n",
              "  <tbody>\n",
              "  </tbody>\n",
              "</table>\n",
              "</div>\n",
              "      <button class=\"colab-df-convert\" onclick=\"convertToInteractive('df-27ddf31b-3beb-49ab-bef6-6d9741dd32f0')\"\n",
              "              title=\"Convert this dataframe to an interactive table.\"\n",
              "              style=\"display:none;\">\n",
              "        \n",
              "  <svg xmlns=\"http://www.w3.org/2000/svg\" height=\"24px\"viewBox=\"0 0 24 24\"\n",
              "       width=\"24px\">\n",
              "    <path d=\"M0 0h24v24H0V0z\" fill=\"none\"/>\n",
              "    <path d=\"M18.56 5.44l.94 2.06.94-2.06 2.06-.94-2.06-.94-.94-2.06-.94 2.06-2.06.94zm-11 1L8.5 8.5l.94-2.06 2.06-.94-2.06-.94L8.5 2.5l-.94 2.06-2.06.94zm10 10l.94 2.06.94-2.06 2.06-.94-2.06-.94-.94-2.06-.94 2.06-2.06.94z\"/><path d=\"M17.41 7.96l-1.37-1.37c-.4-.4-.92-.59-1.43-.59-.52 0-1.04.2-1.43.59L10.3 9.45l-7.72 7.72c-.78.78-.78 2.05 0 2.83L4 21.41c.39.39.9.59 1.41.59.51 0 1.02-.2 1.41-.59l7.78-7.78 2.81-2.81c.8-.78.8-2.07 0-2.86zM5.41 20L4 18.59l7.72-7.72 1.47 1.35L5.41 20z\"/>\n",
              "  </svg>\n",
              "      </button>\n",
              "      \n",
              "  <style>\n",
              "    .colab-df-container {\n",
              "      display:flex;\n",
              "      flex-wrap:wrap;\n",
              "      gap: 12px;\n",
              "    }\n",
              "\n",
              "    .colab-df-convert {\n",
              "      background-color: #E8F0FE;\n",
              "      border: none;\n",
              "      border-radius: 50%;\n",
              "      cursor: pointer;\n",
              "      display: none;\n",
              "      fill: #1967D2;\n",
              "      height: 32px;\n",
              "      padding: 0 0 0 0;\n",
              "      width: 32px;\n",
              "    }\n",
              "\n",
              "    .colab-df-convert:hover {\n",
              "      background-color: #E2EBFA;\n",
              "      box-shadow: 0px 1px 2px rgba(60, 64, 67, 0.3), 0px 1px 3px 1px rgba(60, 64, 67, 0.15);\n",
              "      fill: #174EA6;\n",
              "    }\n",
              "\n",
              "    [theme=dark] .colab-df-convert {\n",
              "      background-color: #3B4455;\n",
              "      fill: #D2E3FC;\n",
              "    }\n",
              "\n",
              "    [theme=dark] .colab-df-convert:hover {\n",
              "      background-color: #434B5C;\n",
              "      box-shadow: 0px 1px 3px 1px rgba(0, 0, 0, 0.15);\n",
              "      filter: drop-shadow(0px 1px 2px rgba(0, 0, 0, 0.3));\n",
              "      fill: #FFFFFF;\n",
              "    }\n",
              "  </style>\n",
              "\n",
              "      <script>\n",
              "        const buttonEl =\n",
              "          document.querySelector('#df-27ddf31b-3beb-49ab-bef6-6d9741dd32f0 button.colab-df-convert');\n",
              "        buttonEl.style.display =\n",
              "          google.colab.kernel.accessAllowed ? 'block' : 'none';\n",
              "\n",
              "        async function convertToInteractive(key) {\n",
              "          const element = document.querySelector('#df-27ddf31b-3beb-49ab-bef6-6d9741dd32f0');\n",
              "          const dataTable =\n",
              "            await google.colab.kernel.invokeFunction('convertToInteractive',\n",
              "                                                     [key], {});\n",
              "          if (!dataTable) return;\n",
              "\n",
              "          const docLinkHtml = 'Like what you see? Visit the ' +\n",
              "            '<a target=\"_blank\" href=https://colab.research.google.com/notebooks/data_table.ipynb>data table notebook</a>'\n",
              "            + ' to learn more about interactive tables.';\n",
              "          element.innerHTML = '';\n",
              "          dataTable['output_type'] = 'display_data';\n",
              "          await google.colab.output.renderOutput(dataTable, element);\n",
              "          const docLink = document.createElement('div');\n",
              "          docLink.innerHTML = docLinkHtml;\n",
              "          element.appendChild(docLink);\n",
              "        }\n",
              "      </script>\n",
              "    </div>\n",
              "  </div>\n",
              "  "
            ],
            "text/plain": [
              "Empty DataFrame\n",
              "Columns: [tweet, label]\n",
              "Index: []"
            ]
          },
          "execution_count": 135,
          "metadata": {},
          "output_type": "execute_result"
        }
      ],
      "source": [
        "df = pd.DataFrame(columns=[\"tweet\", \"label\"])\n",
        "df.head()"
      ]
    },
    {
      "cell_type": "code",
      "execution_count": null,
      "metadata": {
        "id": "PwprLukwcpTI"
      },
      "outputs": [],
      "source": []
    },
    {
      "cell_type": "code",
      "execution_count": 146,
      "metadata": {
        "id": "nEfJ5MUewPIk"
      },
      "outputs": [],
      "source": [
        "labels = [\"bill gates\", \"downing street\", \"mia mottley\", \"roger federer\", \"white house\"]                                                    #creating list of all possible output labels\n",
        "files = [\"BillGates_task1.csv\", \"downingstreet_task1.csv\", \"miaamormottley_task1.csv\", \"rogerfederer_task1.csv\", \"WhiteHouse_task1.csv\"]    #creating list of all members' .csv files\n",
        "\n",
        "for file, label in zip(files, labels):                                                                                                      #iterating through files and output labels (each file corresponds to a different output label)\n",
        "    tweets_df = pd.read_csv(f\"/content/drive/My Drive/ML/project/{file}\")                                                                                                           #reading file with pandas\n",
        "    tweets_df = tweets_df.rename(columns={\"Tweet\": \"tweet\", \"Tweets\": \"tweet\", \"tweets\": \"tweet\"})                                          #renaming dataframe column names where required for uniformity\n",
        "    tweets_df[\"label\"] = label                                                                                                              #storing appropriate label with this data\n",
        "\n",
        "    df = pd.concat([tweets_df.iloc[:, [-2, -1]], df], )                                                                                     #concatenating this iteration's data into one big dataframe"
      ]
    },
    {
      "cell_type": "code",
      "execution_count": null,
      "metadata": {
        "colab": {
          "base_uri": "https://localhost:8080/",
          "height": 206
        },
        "id": "K-8Sk9ljbjDy",
        "outputId": "38798e4b-31d3-4e2c-8802-a86208fe57c6"
      },
      "outputs": [
        {
          "data": {
            "text/html": [
              "\n",
              "  <div id=\"df-f6e2c550-78a2-4dee-8a56-c9caee103c39\">\n",
              "    <div class=\"colab-df-container\">\n",
              "      <div>\n",
              "<style scoped>\n",
              "    .dataframe tbody tr th:only-of-type {\n",
              "        vertical-align: middle;\n",
              "    }\n",
              "\n",
              "    .dataframe tbody tr th {\n",
              "        vertical-align: top;\n",
              "    }\n",
              "\n",
              "    .dataframe thead th {\n",
              "        text-align: right;\n",
              "    }\n",
              "</style>\n",
              "<table border=\"1\" class=\"dataframe\">\n",
              "  <thead>\n",
              "    <tr style=\"text-align: right;\">\n",
              "      <th></th>\n",
              "      <th>tweet</th>\n",
              "      <th>label</th>\n",
              "    </tr>\n",
              "  </thead>\n",
              "  <tbody>\n",
              "    <tr>\n",
              "      <th>0</th>\n",
              "      <td>Hidden “junk” fees – like processing fees on c...</td>\n",
              "      <td>white house</td>\n",
              "    </tr>\n",
              "    <tr>\n",
              "      <th>1</th>\n",
              "      <td>Under the Biden-Harris Administration, surpris...</td>\n",
              "      <td>white house</td>\n",
              "    </tr>\n",
              "    <tr>\n",
              "      <th>2</th>\n",
              "      <td>Get your updated COVID vaccine as soon as poss...</td>\n",
              "      <td>white house</td>\n",
              "    </tr>\n",
              "    <tr>\n",
              "      <th>3</th>\n",
              "      <td>President Biden’s Bipartisan Infrastructure La...</td>\n",
              "      <td>white house</td>\n",
              "    </tr>\n",
              "    <tr>\n",
              "      <th>4</th>\n",
              "      <td>.@POTUS signed the first major gun safety legi...</td>\n",
              "      <td>white house</td>\n",
              "    </tr>\n",
              "  </tbody>\n",
              "</table>\n",
              "</div>\n",
              "      <button class=\"colab-df-convert\" onclick=\"convertToInteractive('df-f6e2c550-78a2-4dee-8a56-c9caee103c39')\"\n",
              "              title=\"Convert this dataframe to an interactive table.\"\n",
              "              style=\"display:none;\">\n",
              "        \n",
              "  <svg xmlns=\"http://www.w3.org/2000/svg\" height=\"24px\"viewBox=\"0 0 24 24\"\n",
              "       width=\"24px\">\n",
              "    <path d=\"M0 0h24v24H0V0z\" fill=\"none\"/>\n",
              "    <path d=\"M18.56 5.44l.94 2.06.94-2.06 2.06-.94-2.06-.94-.94-2.06-.94 2.06-2.06.94zm-11 1L8.5 8.5l.94-2.06 2.06-.94-2.06-.94L8.5 2.5l-.94 2.06-2.06.94zm10 10l.94 2.06.94-2.06 2.06-.94-2.06-.94-.94-2.06-.94 2.06-2.06.94z\"/><path d=\"M17.41 7.96l-1.37-1.37c-.4-.4-.92-.59-1.43-.59-.52 0-1.04.2-1.43.59L10.3 9.45l-7.72 7.72c-.78.78-.78 2.05 0 2.83L4 21.41c.39.39.9.59 1.41.59.51 0 1.02-.2 1.41-.59l7.78-7.78 2.81-2.81c.8-.78.8-2.07 0-2.86zM5.41 20L4 18.59l7.72-7.72 1.47 1.35L5.41 20z\"/>\n",
              "  </svg>\n",
              "      </button>\n",
              "      \n",
              "  <style>\n",
              "    .colab-df-container {\n",
              "      display:flex;\n",
              "      flex-wrap:wrap;\n",
              "      gap: 12px;\n",
              "    }\n",
              "\n",
              "    .colab-df-convert {\n",
              "      background-color: #E8F0FE;\n",
              "      border: none;\n",
              "      border-radius: 50%;\n",
              "      cursor: pointer;\n",
              "      display: none;\n",
              "      fill: #1967D2;\n",
              "      height: 32px;\n",
              "      padding: 0 0 0 0;\n",
              "      width: 32px;\n",
              "    }\n",
              "\n",
              "    .colab-df-convert:hover {\n",
              "      background-color: #E2EBFA;\n",
              "      box-shadow: 0px 1px 2px rgba(60, 64, 67, 0.3), 0px 1px 3px 1px rgba(60, 64, 67, 0.15);\n",
              "      fill: #174EA6;\n",
              "    }\n",
              "\n",
              "    [theme=dark] .colab-df-convert {\n",
              "      background-color: #3B4455;\n",
              "      fill: #D2E3FC;\n",
              "    }\n",
              "\n",
              "    [theme=dark] .colab-df-convert:hover {\n",
              "      background-color: #434B5C;\n",
              "      box-shadow: 0px 1px 3px 1px rgba(0, 0, 0, 0.15);\n",
              "      filter: drop-shadow(0px 1px 2px rgba(0, 0, 0, 0.3));\n",
              "      fill: #FFFFFF;\n",
              "    }\n",
              "  </style>\n",
              "\n",
              "      <script>\n",
              "        const buttonEl =\n",
              "          document.querySelector('#df-f6e2c550-78a2-4dee-8a56-c9caee103c39 button.colab-df-convert');\n",
              "        buttonEl.style.display =\n",
              "          google.colab.kernel.accessAllowed ? 'block' : 'none';\n",
              "\n",
              "        async function convertToInteractive(key) {\n",
              "          const element = document.querySelector('#df-f6e2c550-78a2-4dee-8a56-c9caee103c39');\n",
              "          const dataTable =\n",
              "            await google.colab.kernel.invokeFunction('convertToInteractive',\n",
              "                                                     [key], {});\n",
              "          if (!dataTable) return;\n",
              "\n",
              "          const docLinkHtml = 'Like what you see? Visit the ' +\n",
              "            '<a target=\"_blank\" href=https://colab.research.google.com/notebooks/data_table.ipynb>data table notebook</a>'\n",
              "            + ' to learn more about interactive tables.';\n",
              "          element.innerHTML = '';\n",
              "          dataTable['output_type'] = 'display_data';\n",
              "          await google.colab.output.renderOutput(dataTable, element);\n",
              "          const docLink = document.createElement('div');\n",
              "          docLink.innerHTML = docLinkHtml;\n",
              "          element.appendChild(docLink);\n",
              "        }\n",
              "      </script>\n",
              "    </div>\n",
              "  </div>\n",
              "  "
            ],
            "text/plain": [
              "                                               tweet        label\n",
              "0  Hidden “junk” fees – like processing fees on c...  white house\n",
              "1  Under the Biden-Harris Administration, surpris...  white house\n",
              "2  Get your updated COVID vaccine as soon as poss...  white house\n",
              "3  President Biden’s Bipartisan Infrastructure La...  white house\n",
              "4  .@POTUS signed the first major gun safety legi...  white house"
            ]
          },
          "execution_count": 6,
          "metadata": {},
          "output_type": "execute_result"
        }
      ],
      "source": [
        "df.head()"
      ]
    },
    {
      "cell_type": "code",
      "execution_count": null,
      "metadata": {
        "colab": {
          "base_uri": "https://localhost:8080/"
        },
        "id": "v4JXb3NebjDy",
        "outputId": "aeaf164f-cc3c-47c8-80ad-6d21ad3f6ada"
      },
      "outputs": [
        {
          "name": "stdout",
          "output_type": "stream",
          "text": [
            "The dimensions of our cumulative dataframe are: (5303, 2)\n"
          ]
        }
      ],
      "source": [
        "print(\"The dimensions of our cumulative dataframe are:\", df.shape)                                                                          #printing dimensions of our final dataframe                                                                                                                                   "
      ]
    },
    {
      "cell_type": "markdown",
      "metadata": {
        "id": "7CgHXAUomncg"
      },
      "source": []
    },
    {
      "cell_type": "code",
      "execution_count": null,
      "metadata": {
        "colab": {
          "base_uri": "https://localhost:8080/"
        },
        "id": "c4Ui0SkobjDz",
        "outputId": "3b824b92-8cce-485d-80ac-cb8f89be0644"
      },
      "outputs": [
        {
          "name": "stdout",
          "output_type": "stream",
          "text": [
            "Counts:\n",
            "white house: 1001\n",
            "roger federer: 1001\n",
            "mia mottley: 1300\n",
            "downing street: 1001\n",
            "bill gates: 1000\n"
          ]
        }
      ],
      "source": [
        "print(\"Counts:\")                                                                                                                            #printing the number of records per label (we scraped 1000 tweets each)\n",
        "for label in df[\"label\"].unique():                                                                                                          #iterating through all the unique labels in our dataframe \n",
        "    print(f\"{label}: {sum(df['label'] == label)}\")                                                                                          #printing number of entries with this label"
      ]
    },
    {
      "cell_type": "markdown",
      "metadata": {
        "id": "IytxM0h1bjDz"
      },
      "source": [
        "# Data Cleaning"
      ]
    },
    {
      "cell_type": "code",
      "execution_count": null,
      "metadata": {
        "id": "w3vfEN0objD0"
      },
      "outputs": [],
      "source": [
        "def clean_data(series):\n",
        "    stop_words = [\"i\", \"i'm\", \"me\", \"my\", \"myself\", \"we\", \"our\", \"ours\", \"ourselves\",\n",
        "              \"you\", \"you're\", \"you've\", \"you'll\", \"you'd\", \"your\", \"yours\", \"yourself\",\n",
        "              \"yourselves\", \"he\", \"him\", \"his\", \"himself\", \"she\", \"she's\", \"her\", \"hers\",\n",
        "              \"herself\", \"it\", \"it's\", \"its\", \"itself\", \"they\", \"them\", \"their\", \"theirs\",\n",
        "              \"themselves\", \"what\", \"which\", \"who\", \"whom\", \"this\", \"that\", \"that'll\",\n",
        "              \"these\", \"those\", \"am\", \"is\", \"are\", \"was\", \"were\", \"be\", \"been\", \"being\",\n",
        "              \"have\", \"has\", \"had\", \"having\", \"do\", \"does\", \"did\", \"doing\", \"a\", \"an\",\n",
        "              \"the\", \"and\", \"but\", \"if\", \"or\", \"because\", \"as\", \"until\", \"while\", \"of\",\n",
        "              \"at\", \"by\", \"for\", \"with\", \"about\", \"against\", \"between\", \"into\", \"through\",\n",
        "              \"during\", \"before\", \"after\", \"above\", \"below\", \"to\", \"from\", \"up\",\n",
        "              \"down\", \"in\", \"out\", \"on\", \"off\", \"over\", \"under\", \"again\", \"further\", \"then\",\n",
        "              \"once\", \"here\", \"there\", \"when\", \"where\", \"why\", \"how\", \"all\", \"any\", \"both\",\n",
        "              \"each\", \"few\", \"more\", \"most\", \"other\", \"some\", \"such\", \"no\", \"nor\", \"not\",\n",
        "              \"only\", \"own\", \"same\", \"so\", \"than\", \"too\", \"very\", \"s\", \"t\", \"can\", \"will\",\n",
        "              \"just\", \"don\", \"don't\", \"should\", \"should've\", \"now\", \"d\", \"ll\", \"m\", \"o\",\n",
        "              \"re\", \"ve\", \"y\", \"ain\", \"aren\", \"aren't\", \"couldn\", \"couldn't\", \"didn\",\n",
        "              \"didn't\", \"doesn\", \"doesn't\", \"hadn\", \"hadn't\", \"hasn\", \"hasn't\", \"haven\",\n",
        "              \"haven't\", \"isn\", \"isn't\", \"ma\", \"mightn\", \"mightn't\", \"mustn\", \"mustn't\",\n",
        "              \"needn\", \"needn't\", \"shan\", \"shan't\", \"shouldn\", \"shouldn't\", \"wasn\",\n",
        "              \"wasn't\", \"weren\", \"weren't\", \"won\", \"won't\", \"wouldn\", \"wouldn't\", \"b\", \"c\",\n",
        "              \"d\", \"e\", \"f\", \"g\", \"h\", \"i\", \"j\", \"k\", \"l\", \"m\", \"n\", \"o\", \"p\", \"q\", \"r\", \"s\",\n",
        "              \"t\", \"u\", \"v\", \"w\", \"x\", \"y\", \"z\"]\n",
        "    \n",
        "    # tags_accounts = \"(@|#)\\w*\"\n",
        "    twitter_images = \"https://t.co/[a-zA-Z0-9]{10}\"\n",
        "    non_ascii = \"[^\\x00-\\x7F]+\"\n",
        "    punctuations = f\"[{punctuation}]\"\n",
        "    numbers = \"\\d+\"\n",
        "    \n",
        "    series = series.str.lower()                                             #convering to lower case\n",
        "    series = series.str.split().str.join(\" \")                               \n",
        "    series = series.str.replace(twitter_images, \" \", regex=True)            #removing twitter images\n",
        "    series = series.str.replace(numbers, \" \", regex=True)                   #removing numbers\n",
        "    series = series.str.replace(punctuations, \" \", regex=True)              #removing punctuations\n",
        "    series = series.apply(lambda tweet: \" \".join([word for word in tweet.split() if word not in stop_words]))     #removing stop words\n",
        "\n",
        "    return series"
      ]
    },
    {
      "cell_type": "code",
      "execution_count": 137,
      "metadata": {
        "id": "NPa1nNvXbjD1"
      },
      "outputs": [],
      "source": [
        "df[\"tweet\"] = clean_data(df[\"tweet\"])\n",
        "df = df[df[\"tweet\"].str.len() > 0]"
      ]
    },
    {
      "cell_type": "code",
      "execution_count": null,
      "metadata": {
        "colab": {
          "base_uri": "https://localhost:8080/"
        },
        "id": "e26iP2QCiZvO",
        "outputId": "3d33ec26-ee44-4903-ec4e-03736e46d9f3"
      },
      "outputs": [
        {
          "name": "stdout",
          "output_type": "stream",
          "text": [
            "Counts:\n",
            "white house: 996\n",
            "roger federer: 956\n",
            "mia mottley: 1251\n",
            "downing street: 1000\n",
            "bill gates: 998\n"
          ]
        }
      ],
      "source": [
        "print(\"Counts:\")                                                                                                                            #printing the number of records per label (we scraped 1000 tweets each)\n",
        "for label in df[\"label\"].unique():                                                                                                          #iterating through all the unique labels in our dataframe \n",
        "    print(f\"{label}: {sum(df['label'] == label)}\")                                                                                          #printing number of entries with this label"
      ]
    },
    {
      "cell_type": "markdown",
      "metadata": {
        "id": "K0rGe5FobjD2"
      },
      "source": [
        "# Shuffle Data"
      ]
    },
    {
      "cell_type": "code",
      "execution_count": null,
      "metadata": {
        "id": "QNiksx7VbjD2"
      },
      "outputs": [],
      "source": [
        "df = df.sample(frac=1, random_state=0)"
      ]
    },
    {
      "cell_type": "code",
      "execution_count": null,
      "metadata": {
        "colab": {
          "base_uri": "https://localhost:8080/",
          "height": 363
        },
        "id": "d30f3IBtbjD2",
        "outputId": "5ac261ea-4118-413d-e439-501b856e8ad1"
      },
      "outputs": [
        {
          "data": {
            "text/html": [
              "\n",
              "  <div id=\"df-702d9b9a-49c0-4afa-8895-4e1608c7a78f\">\n",
              "    <div class=\"colab-df-container\">\n",
              "      <div>\n",
              "<style scoped>\n",
              "    .dataframe tbody tr th:only-of-type {\n",
              "        vertical-align: middle;\n",
              "    }\n",
              "\n",
              "    .dataframe tbody tr th {\n",
              "        vertical-align: top;\n",
              "    }\n",
              "\n",
              "    .dataframe thead th {\n",
              "        text-align: right;\n",
              "    }\n",
              "</style>\n",
              "<table border=\"1\" class=\"dataframe\">\n",
              "  <thead>\n",
              "    <tr style=\"text-align: right;\">\n",
              "      <th></th>\n",
              "      <th>tweet</th>\n",
              "      <th>label</th>\n",
              "    </tr>\n",
              "  </thead>\n",
              "  <tbody>\n",
              "    <tr>\n",
              "      <th>833</th>\n",
              "      <td>thanks hit today david goffin ☀️🎾👍🏼</td>\n",
              "      <td>roger federer</td>\n",
              "    </tr>\n",
              "    <tr>\n",
              "      <th>988</th>\n",
              "      <td>th sitting parliament th january</td>\n",
              "      <td>mia mottley</td>\n",
              "    </tr>\n",
              "    <tr>\n",
              "      <th>638</th>\n",
              "      <td>black borrowers latino borrowers pell grant re...</td>\n",
              "      <td>white house</td>\n",
              "    </tr>\n",
              "    <tr>\n",
              "      <th>437</th>\n",
              "      <td>i’m grateful joined borisjohnson today highlig...</td>\n",
              "      <td>bill gates</td>\n",
              "    </tr>\n",
              "    <tr>\n",
              "      <th>334</th>\n",
              "      <td>biden harris administration taken significant ...</td>\n",
              "      <td>white house</td>\n",
              "    </tr>\n",
              "    <tr>\n",
              "      <th>514</th>\n",
              "      <td>learning dance 🕺 moves zambia 🇿🇲 visiting comm...</td>\n",
              "      <td>roger federer</td>\n",
              "    </tr>\n",
              "    <tr>\n",
              "      <th>42</th>\n",
              "      <td>president biden asean leaders began new era co...</td>\n",
              "      <td>white house</td>\n",
              "    </tr>\n",
              "    <tr>\n",
              "      <th>568</th>\n",
              "      <td>presenting economic stabilization programme fe...</td>\n",
              "      <td>mia mottley</td>\n",
              "    </tr>\n",
              "    <tr>\n",
              "      <th>1076</th>\n",
              "      <td>th sitting parliament th november</td>\n",
              "      <td>mia mottley</td>\n",
              "    </tr>\n",
              "    <tr>\n",
              "      <th>148</th>\n",
              "      <td>malawi united states new cases polio reminder ...</td>\n",
              "      <td>bill gates</td>\n",
              "    </tr>\n",
              "  </tbody>\n",
              "</table>\n",
              "</div>\n",
              "      <button class=\"colab-df-convert\" onclick=\"convertToInteractive('df-702d9b9a-49c0-4afa-8895-4e1608c7a78f')\"\n",
              "              title=\"Convert this dataframe to an interactive table.\"\n",
              "              style=\"display:none;\">\n",
              "        \n",
              "  <svg xmlns=\"http://www.w3.org/2000/svg\" height=\"24px\"viewBox=\"0 0 24 24\"\n",
              "       width=\"24px\">\n",
              "    <path d=\"M0 0h24v24H0V0z\" fill=\"none\"/>\n",
              "    <path d=\"M18.56 5.44l.94 2.06.94-2.06 2.06-.94-2.06-.94-.94-2.06-.94 2.06-2.06.94zm-11 1L8.5 8.5l.94-2.06 2.06-.94-2.06-.94L8.5 2.5l-.94 2.06-2.06.94zm10 10l.94 2.06.94-2.06 2.06-.94-2.06-.94-.94-2.06-.94 2.06-2.06.94z\"/><path d=\"M17.41 7.96l-1.37-1.37c-.4-.4-.92-.59-1.43-.59-.52 0-1.04.2-1.43.59L10.3 9.45l-7.72 7.72c-.78.78-.78 2.05 0 2.83L4 21.41c.39.39.9.59 1.41.59.51 0 1.02-.2 1.41-.59l7.78-7.78 2.81-2.81c.8-.78.8-2.07 0-2.86zM5.41 20L4 18.59l7.72-7.72 1.47 1.35L5.41 20z\"/>\n",
              "  </svg>\n",
              "      </button>\n",
              "      \n",
              "  <style>\n",
              "    .colab-df-container {\n",
              "      display:flex;\n",
              "      flex-wrap:wrap;\n",
              "      gap: 12px;\n",
              "    }\n",
              "\n",
              "    .colab-df-convert {\n",
              "      background-color: #E8F0FE;\n",
              "      border: none;\n",
              "      border-radius: 50%;\n",
              "      cursor: pointer;\n",
              "      display: none;\n",
              "      fill: #1967D2;\n",
              "      height: 32px;\n",
              "      padding: 0 0 0 0;\n",
              "      width: 32px;\n",
              "    }\n",
              "\n",
              "    .colab-df-convert:hover {\n",
              "      background-color: #E2EBFA;\n",
              "      box-shadow: 0px 1px 2px rgba(60, 64, 67, 0.3), 0px 1px 3px 1px rgba(60, 64, 67, 0.15);\n",
              "      fill: #174EA6;\n",
              "    }\n",
              "\n",
              "    [theme=dark] .colab-df-convert {\n",
              "      background-color: #3B4455;\n",
              "      fill: #D2E3FC;\n",
              "    }\n",
              "\n",
              "    [theme=dark] .colab-df-convert:hover {\n",
              "      background-color: #434B5C;\n",
              "      box-shadow: 0px 1px 3px 1px rgba(0, 0, 0, 0.15);\n",
              "      filter: drop-shadow(0px 1px 2px rgba(0, 0, 0, 0.3));\n",
              "      fill: #FFFFFF;\n",
              "    }\n",
              "  </style>\n",
              "\n",
              "      <script>\n",
              "        const buttonEl =\n",
              "          document.querySelector('#df-702d9b9a-49c0-4afa-8895-4e1608c7a78f button.colab-df-convert');\n",
              "        buttonEl.style.display =\n",
              "          google.colab.kernel.accessAllowed ? 'block' : 'none';\n",
              "\n",
              "        async function convertToInteractive(key) {\n",
              "          const element = document.querySelector('#df-702d9b9a-49c0-4afa-8895-4e1608c7a78f');\n",
              "          const dataTable =\n",
              "            await google.colab.kernel.invokeFunction('convertToInteractive',\n",
              "                                                     [key], {});\n",
              "          if (!dataTable) return;\n",
              "\n",
              "          const docLinkHtml = 'Like what you see? Visit the ' +\n",
              "            '<a target=\"_blank\" href=https://colab.research.google.com/notebooks/data_table.ipynb>data table notebook</a>'\n",
              "            + ' to learn more about interactive tables.';\n",
              "          element.innerHTML = '';\n",
              "          dataTable['output_type'] = 'display_data';\n",
              "          await google.colab.output.renderOutput(dataTable, element);\n",
              "          const docLink = document.createElement('div');\n",
              "          docLink.innerHTML = docLinkHtml;\n",
              "          element.appendChild(docLink);\n",
              "        }\n",
              "      </script>\n",
              "    </div>\n",
              "  </div>\n",
              "  "
            ],
            "text/plain": [
              "                                                  tweet          label\n",
              "833                 thanks hit today david goffin ☀️🎾👍🏼  roger federer\n",
              "988                    th sitting parliament th january    mia mottley\n",
              "638   black borrowers latino borrowers pell grant re...    white house\n",
              "437   i’m grateful joined borisjohnson today highlig...     bill gates\n",
              "334   biden harris administration taken significant ...    white house\n",
              "514   learning dance 🕺 moves zambia 🇿🇲 visiting comm...  roger federer\n",
              "42    president biden asean leaders began new era co...    white house\n",
              "568   presenting economic stabilization programme fe...    mia mottley\n",
              "1076                  th sitting parliament th november    mia mottley\n",
              "148   malawi united states new cases polio reminder ...     bill gates"
            ]
          },
          "execution_count": 13,
          "metadata": {},
          "output_type": "execute_result"
        }
      ],
      "source": [
        "df.head(10)"
      ]
    },
    {
      "cell_type": "code",
      "execution_count": null,
      "metadata": {
        "colab": {
          "base_uri": "https://localhost:8080/"
        },
        "id": "YF17NV36bjD3",
        "outputId": "5b2c2490-02fc-4699-e7b4-1fac9216cfda"
      },
      "outputs": [
        {
          "data": {
            "text/plain": [
              "(5201, 2)"
            ]
          },
          "execution_count": 14,
          "metadata": {},
          "output_type": "execute_result"
        }
      ],
      "source": [
        "df.shape"
      ]
    },
    {
      "cell_type": "markdown",
      "metadata": {
        "id": "i-WQD4yRbjD3"
      },
      "source": [
        "# Train Test Split"
      ]
    },
    {
      "cell_type": "code",
      "execution_count": 148,
      "metadata": {
        "id": "DtIpWUyfGa8a"
      },
      "outputs": [],
      "source": [
        "train_df, test_df = train_test_split(df, train_size=0.8, random_state=0)"
      ]
    },
    {
      "cell_type": "code",
      "execution_count": null,
      "metadata": {
        "colab": {
          "base_uri": "https://localhost:8080/"
        },
        "id": "WxT_IibHbjD4",
        "outputId": "2769681e-2ede-462b-a563-6a22d99c79de"
      },
      "outputs": [
        {
          "name": "stdout",
          "output_type": "stream",
          "text": [
            "Train: (4160, 2)\n",
            "Test: (1041, 2)\n"
          ]
        }
      ],
      "source": [
        "print(\"Train:\", train_df.shape)\n",
        "print(\"Test:\", test_df.shape)"
      ]
    },
    {
      "cell_type": "markdown",
      "metadata": {
        "id": "iUrSLQQLbjD4"
      },
      "source": [
        "# Feature Extraction"
      ]
    },
    {
      "cell_type": "code",
      "execution_count": null,
      "metadata": {
        "id": "GTY9zToqbjD4"
      },
      "outputs": [],
      "source": [
        "# getting bag of words from the complete data set\n",
        "def get_bow(dataset):\n",
        "    return list(set([word for sentence in dataset for word in sentence.split()]))"
      ]
    },
    {
      "cell_type": "code",
      "execution_count": null,
      "metadata": {
        "id": "OZUdjTSWbjD4"
      },
      "outputs": [],
      "source": [
        "# getting bag of words feature vector for each datapoint\n",
        "def get_features(dataset, bow):\n",
        "    word_to_idx = dict(map(lambda pair: (pair[1], pair[0]), enumerate(bow)))\n",
        "    features = np.zeros((len(dataset), len(bow)), dtype=int)\n",
        "    \n",
        "    for idx, sentence in enumerate(dataset):\n",
        "        for word in sentence.split():\n",
        "            word_idx = word_to_idx.get(word)\n",
        "            if word_idx:\n",
        "                \n",
        "                features[idx][word_idx] += 1\n",
        "            \n",
        "    return features"
      ]
    },
    {
      "cell_type": "markdown",
      "metadata": {
        "id": "2O1ZzOoybjD5"
      },
      "source": [
        "## BOW"
      ]
    },
    {
      "cell_type": "code",
      "execution_count": null,
      "metadata": {
        "colab": {
          "base_uri": "https://localhost:8080/"
        },
        "id": "y-f9N8MKbjD5",
        "outputId": "00f2bc0d-2a15-4247-99b4-a435d0075835"
      },
      "outputs": [
        {
          "data": {
            "text/plain": [
              "['recognise',\n",
              " 'andreagassi',\n",
              " 'immovable',\n",
              " 'taco',\n",
              " 'retains',\n",
              " 'congratulations',\n",
              " 'interaction',\n",
              " 'tail',\n",
              " 'quarters',\n",
              " 'people…']"
            ]
          },
          "execution_count": 105,
          "metadata": {},
          "output_type": "execute_result"
        }
      ],
      "source": [
        "bow = get_bow(train_df[\"tweet\"])\n",
        "bow[:10]"
      ]
    },
    {
      "cell_type": "code",
      "execution_count": null,
      "metadata": {
        "colab": {
          "base_uri": "https://localhost:8080/"
        },
        "id": "PcJwR0-nbjD5",
        "outputId": "7d80398d-3be8-4ff1-949f-1259c38b9a80"
      },
      "outputs": [
        {
          "data": {
            "text/plain": [
              "10369"
            ]
          },
          "execution_count": 21,
          "metadata": {},
          "output_type": "execute_result"
        }
      ],
      "source": [
        "len(bow)"
      ]
    },
    {
      "cell_type": "code",
      "execution_count": null,
      "metadata": {
        "colab": {
          "base_uri": "https://localhost:8080/"
        },
        "id": "kzWIUcrZbjD6",
        "outputId": "91b141b1-72fe-4295-a14a-39814d2de310"
      },
      "outputs": [
        {
          "data": {
            "text/plain": [
              "array([[0, 0, 0, ..., 0, 0, 0],\n",
              "       [0, 0, 0, ..., 0, 0, 0],\n",
              "       [0, 0, 0, ..., 0, 0, 0],\n",
              "       ...,\n",
              "       [0, 0, 0, ..., 0, 0, 0],\n",
              "       [0, 0, 0, ..., 0, 0, 0],\n",
              "       [0, 0, 0, ..., 0, 0, 0]])"
            ]
          },
          "execution_count": 106,
          "metadata": {},
          "output_type": "execute_result"
        }
      ],
      "source": [
        "x_train_bow = get_features(train_df[\"tweet\"], bow)\n",
        "x_train_bow[:10]"
      ]
    },
    {
      "cell_type": "code",
      "execution_count": null,
      "metadata": {
        "colab": {
          "base_uri": "https://localhost:8080/"
        },
        "id": "FafL_rmbbjD6",
        "outputId": "3185ab4d-c670-4db0-bd4f-4d12e26e86d8"
      },
      "outputs": [
        {
          "data": {
            "text/plain": [
              "array(['white house', 'downing street', 'downing street', 'white house',\n",
              "       'roger federer', 'white house', 'white house', 'roger federer',\n",
              "       'downing street', 'white house'], dtype=object)"
            ]
          },
          "execution_count": 107,
          "metadata": {},
          "output_type": "execute_result"
        }
      ],
      "source": [
        "y_train_bow = train_df[\"label\"].to_numpy()\n",
        "y_train_bow[:10]"
      ]
    },
    {
      "cell_type": "code",
      "execution_count": null,
      "metadata": {
        "colab": {
          "base_uri": "https://localhost:8080/"
        },
        "id": "KfkiymKrbjD6",
        "outputId": "4d38eac4-f3e9-485a-dee6-f5dfee6cfa53"
      },
      "outputs": [
        {
          "data": {
            "text/plain": [
              "array([[0, 0, 0, 0, 0, 0, 0, 0, 0, 0],\n",
              "       [0, 0, 0, 0, 0, 0, 0, 0, 0, 0],\n",
              "       [0, 0, 0, 0, 0, 0, 0, 0, 0, 0],\n",
              "       [0, 0, 0, 0, 0, 0, 0, 0, 0, 0],\n",
              "       [0, 0, 0, 0, 0, 0, 0, 0, 0, 0],\n",
              "       [0, 0, 0, 0, 0, 0, 0, 0, 0, 0],\n",
              "       [0, 0, 0, 0, 0, 0, 0, 0, 0, 0],\n",
              "       [0, 0, 0, 0, 0, 0, 0, 0, 0, 0],\n",
              "       [0, 0, 0, 0, 0, 0, 0, 0, 0, 0],\n",
              "       [0, 0, 0, 0, 0, 0, 0, 0, 0, 0]])"
            ]
          },
          "execution_count": 108,
          "metadata": {},
          "output_type": "execute_result"
        }
      ],
      "source": [
        "x_test_bow = get_features(test_df[\"tweet\"], bow)\n",
        "x_test_bow[:10, :10]"
      ]
    },
    {
      "cell_type": "code",
      "execution_count": null,
      "metadata": {
        "colab": {
          "base_uri": "https://localhost:8080/"
        },
        "id": "57eMkuyHbjD6",
        "outputId": "8973abd6-8b87-4826-b94a-f11ca7eb926d"
      },
      "outputs": [
        {
          "data": {
            "text/plain": [
              "array(['white house', 'mia mottley', 'white house', 'downing street',\n",
              "       'mia mottley', 'white house', 'roger federer', 'downing street',\n",
              "       'bill gates', 'mia mottley'], dtype=object)"
            ]
          },
          "execution_count": 109,
          "metadata": {},
          "output_type": "execute_result"
        }
      ],
      "source": [
        "y_test_bow = test_df[\"label\"].to_numpy()\n",
        "y_test_bow[:10]"
      ]
    },
    {
      "cell_type": "markdown",
      "metadata": {
        "id": "EE9krIw_bjD6"
      },
      "source": [
        "## Embeddings"
      ]
    },
    {
      "cell_type": "code",
      "execution_count": 149,
      "metadata": {
        "id": "chhzHiWMbjD6"
      },
      "outputs": [],
      "source": [
        "model = SentenceTransformer('all-MiniLM-L6-v2')"
      ]
    },
    {
      "cell_type": "code",
      "execution_count": 150,
      "metadata": {
        "colab": {
          "base_uri": "https://localhost:8080/"
        },
        "id": "QwhwBvldbjD6",
        "outputId": "1c783132-5c12-4b1b-bec6-ed3753e999db"
      },
      "outputs": [
        {
          "data": {
            "text/plain": [
              "array([[-0.05045085,  0.02066581, -0.0006325 , -0.02585806,  0.01583238,\n",
              "         0.04289998, -0.01050459,  0.08606196, -0.03148473, -0.01451582],\n",
              "       [ 0.0119578 ,  0.03023548,  0.06557005, -0.03132365,  0.04301972,\n",
              "        -0.01227523,  0.14998257, -0.00020905, -0.00371817, -0.05960565],\n",
              "       [-0.03108075,  0.03790576, -0.00723126, -0.12551828, -0.02123903,\n",
              "         0.05617909,  0.06786272, -0.01183398,  0.10013072,  0.10389531],\n",
              "       [-0.05222638,  0.06110745,  0.0188529 ,  0.0060043 ,  0.03062148,\n",
              "        -0.02923474,  0.03359567,  0.03266168, -0.01654871, -0.03119116],\n",
              "       [-0.03492494,  0.07810794,  0.04323696,  0.04384541,  0.03969851,\n",
              "         0.02037491,  0.05025155,  0.06419948,  0.03508688, -0.06727882],\n",
              "       [-0.01982851, -0.00253645, -0.02690459, -0.07361098,  0.05041354,\n",
              "        -0.03728132, -0.03115604,  0.02072747, -0.01646523,  0.06172785],\n",
              "       [ 0.02240058, -0.0005009 , -0.00232304,  0.03222509, -0.08174729,\n",
              "         0.08967858, -0.07509478, -0.02436958, -0.08033412, -0.0703346 ],\n",
              "       [-0.07403556, -0.03224097,  0.0380412 ,  0.04051091,  0.04491675,\n",
              "        -0.0365047 , -0.01447511, -0.05142534,  0.03418317, -0.02110883],\n",
              "       [-0.0436496 ,  0.09743231, -0.0268345 , -0.06158801,  0.03261576,\n",
              "         0.04319217,  0.02862025, -0.01762293,  0.08026154,  0.03925695],\n",
              "       [ 0.00800227, -0.04733978, -0.02679963,  0.0683281 ,  0.04795648,\n",
              "         0.07035558,  0.02478467,  0.02877808, -0.0677373 , -0.0815734 ]],\n",
              "      dtype=float32)"
            ]
          },
          "execution_count": 150,
          "metadata": {},
          "output_type": "execute_result"
        }
      ],
      "source": [
        "x_train_emb = np.apply_along_axis(model.encode, 0, train_df[\"tweet\"].to_numpy())\n",
        "x_train_emb[:10, :10]"
      ]
    },
    {
      "cell_type": "code",
      "execution_count": 151,
      "metadata": {
        "colab": {
          "base_uri": "https://localhost:8080/"
        },
        "id": "nekIQm8GbjD7",
        "outputId": "8fbc1e06-55ed-4274-9d05-bc15495a63d0"
      },
      "outputs": [
        {
          "data": {
            "text/plain": [
              "array(['downing street', 'bill gates', 'roger federer', 'downing street',\n",
              "       'roger federer', 'mia mottley', 'mia mottley', 'bill gates',\n",
              "       'roger federer', 'mia mottley'], dtype=object)"
            ]
          },
          "execution_count": 151,
          "metadata": {},
          "output_type": "execute_result"
        }
      ],
      "source": [
        "y_train_emb = train_df[\"label\"].to_numpy()\n",
        "y_train_emb[:10]"
      ]
    },
    {
      "cell_type": "code",
      "execution_count": 152,
      "metadata": {
        "colab": {
          "base_uri": "https://localhost:8080/"
        },
        "id": "XkqZX_LxdZXM",
        "outputId": "40af9258-912c-4e21-f9a7-c7ff8c4e8a9d"
      },
      "outputs": [
        {
          "data": {
            "text/plain": [
              "array([[-0.03651261,  0.05535118,  0.06270132,  0.0078628 ,  0.03001651,\n",
              "        -0.01216754,  0.02582772,  0.05276696, -0.00160708, -0.08919734],\n",
              "       [-0.12798719,  0.02279217, -0.01489823,  0.00943897, -0.05618929,\n",
              "        -0.06210653,  0.04840302,  0.04482104, -0.08614184, -0.04460581],\n",
              "       [-0.07813361, -0.02027079,  0.01346625, -0.0136258 ,  0.02597586,\n",
              "         0.0444963 , -0.08653998, -0.04840976, -0.05477982, -0.04656878],\n",
              "       [-0.04223031,  0.02891875,  0.05291695, -0.00635327,  0.02889627,\n",
              "        -0.00998626,  0.02527368,  0.00454401, -0.04495877, -0.05560796],\n",
              "       [ 0.03763169,  0.04605574,  0.06934774, -0.03299649, -0.02485377,\n",
              "        -0.05578651,  0.01541493, -0.06921703, -0.06629182,  0.01350862],\n",
              "       [-0.07480537,  0.01951044,  0.00454768, -0.00116415,  0.08456881,\n",
              "         0.05028231,  0.00857742,  0.07878318, -0.03409591,  0.0399546 ],\n",
              "       [-0.02774523,  0.03519297,  0.01452091, -0.04063994, -0.01418096,\n",
              "        -0.04596282, -0.09518705, -0.03536091,  0.02592222,  0.08139274],\n",
              "       [-0.05665709,  0.01338385,  0.05859249,  0.04669292,  0.03335357,\n",
              "         0.0625578 , -0.02865414, -0.06131434,  0.00334093,  0.05753712],\n",
              "       [-0.01407862,  0.03348088,  0.00407464,  0.03308269,  0.0820117 ,\n",
              "         0.01144355, -0.00130691,  0.0426813 , -0.04526135, -0.01948604],\n",
              "       [ 0.01456308,  0.06147977,  0.05276781, -0.007305  ,  0.0878332 ,\n",
              "         0.02584929, -0.02123296, -0.00164522, -0.03208153,  0.04796837]],\n",
              "      dtype=float32)"
            ]
          },
          "execution_count": 152,
          "metadata": {},
          "output_type": "execute_result"
        }
      ],
      "source": [
        "x_test_emb = np.apply_along_axis(model.encode, 0, test_df[\"tweet\"].to_numpy())\n",
        "x_test_emb[:10, :10]"
      ]
    },
    {
      "cell_type": "code",
      "execution_count": 153,
      "metadata": {
        "colab": {
          "base_uri": "https://localhost:8080/"
        },
        "id": "biLG28GYdlcz",
        "outputId": "e0b953e0-1a0e-4917-b322-cd3b9ddbb31d"
      },
      "outputs": [
        {
          "data": {
            "text/plain": [
              "array(['bill gates', 'roger federer', 'bill gates', 'roger federer',\n",
              "       'roger federer', 'mia mottley', 'bill gates', 'white house',\n",
              "       'downing street', 'bill gates'], dtype=object)"
            ]
          },
          "execution_count": 153,
          "metadata": {},
          "output_type": "execute_result"
        }
      ],
      "source": [
        "y_test_emb = test_df[\"label\"].to_numpy()\n",
        "y_test_emb[:10]"
      ]
    },
    {
      "cell_type": "markdown",
      "metadata": {
        "id": "S5q_Yr71bjD7"
      },
      "source": [
        "# Modelling"
      ]
    },
    {
      "cell_type": "markdown",
      "metadata": {
        "id": "ZIcMl73ck5zx"
      },
      "source": [
        "Evaluation Function"
      ]
    },
    {
      "cell_type": "code",
      "execution_count": null,
      "metadata": {
        "id": "bhW9mTW3gpxA"
      },
      "outputs": [],
      "source": [
        "def evaluate(y_true, y_pred):\n",
        "    cf_mat = confusion_matrix(y_true, y_pred)\n",
        "    report = classification_report(y_true, y_pred,output_dict=True)\n",
        "    # \"{:.2f}\".format(report['macro avg']['f1-score'])\n",
        "    print(\"Accuracy:  \",\"{:.2f}\".format(report['accuracy']*100))\n",
        "    print(\"Precision: \", \"{:.2f}\".format(report['macro avg']['precision']*100))  \n",
        "    print(\"Recall:    \",\"{:.2f}\".format(report['macro avg']['recall']*100))\n",
        "    print(\"F1-Score:  \",\"{:.2f}\".format(report['macro avg']['f1-score']*100))           #printing classification report\n",
        "    \n",
        "    labels = ['bill gates', 'downing street', 'mia mottley', 'roger federer', 'white house']\n",
        "    \n",
        "    plt.figure(figsize=(10, 8))\n",
        "    ax = plt.subplot()\n",
        "    sns.heatmap(cf_mat, annot=True, fmt=\"g\", ax=ax, cmap='mako_r')      #printing confusion matrix\n",
        "    ax.set_xlabel('Predicted labels')\n",
        "    ax.set_ylabel('True labels')\n",
        "    ax.set_title('Confusion Matrix')\n",
        "    ax.xaxis.set_ticklabels(labels)\n",
        "    ax.yaxis.set_ticklabels(labels)\n",
        "    plt.xticks(rotation=90)\n",
        "    plt.yticks(rotation=0)\n",
        "    plt.show()"
      ]
    },
    {
      "cell_type": "markdown",
      "metadata": {
        "id": "GjX14efOk1e6"
      },
      "source": [
        "Cross Validation Function"
      ]
    },
    {
      "cell_type": "code",
      "execution_count": null,
      "metadata": {
        "id": "t8aDu8ondaAd"
      },
      "outputs": [],
      "source": [
        "def cross_validate_plot(model, x, y, folds=5):\n",
        "    metrics = cross_validate(model, x, y, return_train_score=True)        #runing cross validation\n",
        "\n",
        "    metric_df = pd.DataFrame({\"training\": metrics[\"train_score\"], \"validation\": metrics[\"test_score\"], \"fold\": list(range(1, folds+1))})\n",
        "    metric_df = pd.melt(metric_df, id_vars=[\"fold\"], value_vars=[\"training\", \"validation\"], var_name=\"type\", value_name=\"accuracy\")\n",
        "\n",
        "    plt.figure(figsize=(10, 8))\n",
        "    sns.lineplot(data=metric_df, x=\"fold\", y=\"accuracy\", hue=\"type\")        \n",
        "    plt.xlabel(\"folds\")\n",
        "    plt.show()"
      ]
    },
    {
      "cell_type": "markdown",
      "metadata": {
        "id": "NIKn5ZosbjD7"
      },
      "source": [
        "# KNN"
      ]
    },
    {
      "cell_type": "markdown",
      "metadata": {
        "id": "a_ZaPKWBbjD7"
      },
      "source": [
        "## BOW"
      ]
    },
    {
      "cell_type": "markdown",
      "metadata": {
        "id": "T_Kqsn0tjhUW"
      },
      "source": [
        "Tuning\n"
      ]
    },
    {
      "cell_type": "code",
      "execution_count": null,
      "metadata": {
        "colab": {
          "base_uri": "https://localhost:8080/"
        },
        "id": "kZLDobb9bjD7",
        "outputId": "ae5b3a4b-674a-466e-8d18-8a9d64c5ab51"
      },
      "outputs": [
        {
          "data": {
            "text/plain": [
              "{'n_neighbors': 3, 'p': 2, 'weights': 'distance'}"
            ]
          },
          "execution_count": 77,
          "metadata": {},
          "output_type": "execute_result"
        }
      ],
      "source": [
        "# using GridSearhCV to tune hyperparameters for KNN using Bag of word feature set\n",
        "params = {\n",
        "    \"n_neighbors\": list(range(1, 10)), \n",
        "    \"weights\": [\"uniform\", \"distance\"],         #tuning number of neighbors, weights and p\n",
        "    \"p\": [1, 2]\n",
        "}\n",
        "\n",
        "knn = KNeighborsClassifier()\n",
        "\n",
        "clf = GridSearchCV(knn, params)\n",
        "search = clf.fit(x_train_bow[:500], y_train_bow[:500])\n",
        "search.best_params_"
      ]
    },
    {
      "cell_type": "markdown",
      "metadata": {
        "id": "tXhZ75YRjkD0"
      },
      "source": [
        "Cross Validation\n"
      ]
    },
    {
      "cell_type": "code",
      "execution_count": null,
      "metadata": {
        "colab": {
          "base_uri": "https://localhost:8080/",
          "height": 497
        },
        "id": "kcytwgEE-jOB",
        "outputId": "e09c5261-2f5f-4830-86a5-133b5807db31"
      },
      "outputs": [
        {
          "data": {
            "image/png": "[encoded data removed]",
            "text/plain": [
              "<Figure size 720x576 with 1 Axes>"
            ]
          },
          "metadata": {
            "needs_background": "light"
          },
          "output_type": "display_data"
        }
      ],
      "source": [
        "knn=KNeighborsClassifier(n_neighbors=3,p=2,weights='distance')\n",
        "cross_validate_plot(knn,x_train_bow,y_train_bow)"
      ]
    },
    {
      "cell_type": "markdown",
      "metadata": {
        "id": "hTGCZmo4joIY"
      },
      "source": [
        "Running final Model"
      ]
    },
    {
      "cell_type": "code",
      "execution_count": null,
      "metadata": {
        "colab": {
          "base_uri": "https://localhost:8080/",
          "height": 649
        },
        "id": "w07tNXCNbjD7",
        "outputId": "db716881-7bff-438d-9ca7-f67b64de4dbd"
      },
      "outputs": [
        {
          "name": "stdout",
          "output_type": "stream",
          "text": [
            "Accuracy:   64.65\n",
            "Precision:  72.58\n",
            "Recall:     64.04\n",
            "F1-Score:   63.61\n"
          ]
        },
        {
          "data": {
            "image/png": "[encoded data removed]",
            "text/plain": [
              "<Figure size 720x576 with 2 Axes>"
            ]
          },
          "metadata": {
            "needs_background": "light"
          },
          "output_type": "display_data"
        }
      ],
      "source": [
        "# runing model with previously found best parameters\n",
        "model = KNeighborsClassifier(n_neighbors=3, weights=\"distance\", p=2)\n",
        "model.fit(x_train_bow, y_train_bow)\n",
        "\n",
        "y_pred = model.predict(x_test_bow)\n",
        "evaluate(y_test_bow, y_pred)"
      ]
    },
    {
      "cell_type": "markdown",
      "metadata": {
        "id": "tBp2us7fbjD8"
      },
      "source": [
        "## Embeddings"
      ]
    },
    {
      "cell_type": "markdown",
      "metadata": {
        "id": "mEjuf-Q7jsL9"
      },
      "source": [
        "Tuning\n"
      ]
    },
    {
      "cell_type": "code",
      "execution_count": null,
      "metadata": {
        "colab": {
          "base_uri": "https://localhost:8080/"
        },
        "id": "2FY8hfxkbjD8",
        "outputId": "8dcfb75c-676a-441c-e95b-c9590a796f28"
      },
      "outputs": [
        {
          "data": {
            "text/plain": [
              "{'n_neighbors': 4, 'p': 1, 'weights': 'distance'}"
            ]
          },
          "execution_count": 81,
          "metadata": {},
          "output_type": "execute_result"
        }
      ],
      "source": [
        "# using GridSearhCV to tune hyperparameters for KNN using Embedding feature set\n",
        "params = {                                        \n",
        "    \"n_neighbors\": list(range(1, 10)),                        #tuning number of neighbors, weights and p\n",
        "    \"weights\": [\"uniform\", \"distance\"],\n",
        "    \"p\": [1, 2]\n",
        "}\n",
        "\n",
        "knn = KNeighborsClassifier()\n",
        "\n",
        "clf = GridSearchCV(knn, params)\n",
        "search = clf.fit(x_train_emb[:500], y_train_emb[:500])\n",
        "search.best_params_"
      ]
    },
    {
      "cell_type": "markdown",
      "metadata": {
        "id": "7EJOzvfzjvEX"
      },
      "source": [
        "Cross Validation"
      ]
    },
    {
      "cell_type": "code",
      "execution_count": null,
      "metadata": {
        "colab": {
          "base_uri": "https://localhost:8080/",
          "height": 497
        },
        "id": "8gXRs47Cv6Qc",
        "outputId": "f1e4f64a-ad90-4ba8-e58a-2a4de15abf5b"
      },
      "outputs": [
        {
          "data": {
            "image/png": "[encoded data removed]",
            "text/plain": [
              "<Figure size 720x576 with 1 Axes>"
            ]
          },
          "metadata": {
            "needs_background": "light"
          },
          "output_type": "display_data"
        }
      ],
      "source": [
        "knn=KNeighborsClassifier(weights=\"distance\",p=1,n_neighbors=4)\n",
        "cross_validate_plot(knn,x_train_emb,y_train_emb)\n",
        "\n"
      ]
    },
    {
      "cell_type": "markdown",
      "metadata": {
        "id": "_MakyvAOjyLv"
      },
      "source": [
        "Running Final Model"
      ]
    },
    {
      "cell_type": "code",
      "execution_count": null,
      "metadata": {
        "colab": {
          "base_uri": "https://localhost:8080/",
          "height": 649
        },
        "id": "OHxOBQicdP1q",
        "outputId": "de99cdf8-959c-4ac8-a868-2182d4c6d577"
      },
      "outputs": [
        {
          "name": "stdout",
          "output_type": "stream",
          "text": [
            "Accuracy:   91.74\n",
            "Precision:  91.55\n",
            "Recall:     91.96\n",
            "F1-Score:   91.69\n"
          ]
        },
        {
          "data": {
            "image/png": "[encoded data removed]",
            "text/plain": [
              "<Figure size 720x576 with 2 Axes>"
            ]
          },
          "metadata": {
            "needs_background": "light"
          },
          "output_type": "display_data"
        }
      ],
      "source": [
        "# runing model with previously found best parameters\n",
        "model = KNeighborsClassifier(n_neighbors=4, weights='distance', p=1)\n",
        "model.fit(x_train_emb, y_train_emb)\n",
        "\n",
        "y_pred = model.predict(x_test_emb)\n",
        "evaluate(y_test_emb, y_pred)"
      ]
    },
    {
      "cell_type": "markdown",
      "metadata": {
        "id": "dwQhMBEebjD8"
      },
      "source": [
        "## NNs"
      ]
    },
    {
      "cell_type": "markdown",
      "metadata": {
        "id": "TiFIawxddvoA"
      },
      "source": [
        "## BOW"
      ]
    },
    {
      "cell_type": "markdown",
      "metadata": {
        "id": "6p0zPe7Ij-pG"
      },
      "source": [
        "Tuning"
      ]
    },
    {
      "cell_type": "code",
      "execution_count": null,
      "metadata": {
        "colab": {
          "base_uri": "https://localhost:8080/"
        },
        "id": "AfMt96LgqL2_",
        "outputId": "c7eb4628-a837-43f3-c477-92b6b7d43474"
      },
      "outputs": [
        {
          "name": "stderr",
          "output_type": "stream",
          "text": [
            "/usr/local/lib/python3.8/dist-packages/sklearn/neural_network/_multilayer_perceptron.py:692: ConvergenceWarning: Stochastic Optimizer: Maximum iterations (200) reached and the optimization hasn't converged yet.\n",
            "  warnings.warn(\n",
            "/usr/local/lib/python3.8/dist-packages/sklearn/neural_network/_multilayer_perceptron.py:692: ConvergenceWarning: Stochastic Optimizer: Maximum iterations (200) reached and the optimization hasn't converged yet.\n",
            "  warnings.warn(\n",
            "/usr/local/lib/python3.8/dist-packages/sklearn/neural_network/_multilayer_perceptron.py:692: ConvergenceWarning: Stochastic Optimizer: Maximum iterations (200) reached and the optimization hasn't converged yet.\n",
            "  warnings.warn(\n",
            "/usr/local/lib/python3.8/dist-packages/sklearn/neural_network/_multilayer_perceptron.py:692: ConvergenceWarning: Stochastic Optimizer: Maximum iterations (200) reached and the optimization hasn't converged yet.\n",
            "  warnings.warn(\n",
            "/usr/local/lib/python3.8/dist-packages/sklearn/neural_network/_multilayer_perceptron.py:692: ConvergenceWarning: Stochastic Optimizer: Maximum iterations (200) reached and the optimization hasn't converged yet.\n",
            "  warnings.warn(\n"
          ]
        },
        {
          "data": {
            "text/plain": [
              "{'activation': 'tanh'}"
            ]
          },
          "execution_count": 88,
          "metadata": {},
          "output_type": "execute_result"
        }
      ],
      "source": [
        "# using GridSearhCV to tune hyperparameters for NN using Bag Of Words feature set\n",
        "\n",
        "params = {                                                          #tuning activation function\n",
        "    \"activation\": ['identity','logistic','tanh','relu']\n",
        "    \n",
        "}\n",
        "\n",
        "\n",
        "\n",
        "nn=MLPClassifier(hidden_layer_sizes=(256, 256, 128, 64))\n",
        "\n",
        "clf = GridSearchCV(nn, params)\n",
        "search = clf.fit(x_train_bow[:500], y_train_bow[:500])\n",
        "search.best_params_"
      ]
    },
    {
      "cell_type": "markdown",
      "metadata": {
        "id": "3Xta9_PtkDSj"
      },
      "source": [
        "Cross Validation"
      ]
    },
    {
      "cell_type": "code",
      "execution_count": null,
      "metadata": {
        "colab": {
          "base_uri": "https://localhost:8080/",
          "height": 497
        },
        "id": "GEq3tXDvTSMv",
        "outputId": "b3c91fb3-50b7-479c-9e05-2ea72773b692"
      },
      "outputs": [
        {
          "data": {
            "image/png": "[encoded data removed]",
            "text/plain": [
              "<Figure size 720x576 with 1 Axes>"
            ]
          },
          "metadata": {
            "needs_background": "light"
          },
          "output_type": "display_data"
        }
      ],
      "source": [
        "nn=MLPClassifier(hidden_layer_sizes=(256, 256, 128, 64),activation='tanh')\n",
        "cross_validate_plot(nn,x_train_bow,y_train_bow)\n"
      ]
    },
    {
      "cell_type": "markdown",
      "metadata": {
        "id": "mUBrOHUskGP1"
      },
      "source": [
        "Runing Final Model"
      ]
    },
    {
      "cell_type": "code",
      "execution_count": null,
      "metadata": {
        "colab": {
          "base_uri": "https://localhost:8080/",
          "height": 649
        },
        "id": "M5XAzjgpbjD8",
        "outputId": "b6b1eea6-b3d2-493a-c458-cbe63d725552"
      },
      "outputs": [
        {
          "name": "stdout",
          "output_type": "stream",
          "text": [
            "Accuracy:   93.37\n",
            "Precision:  93.24\n",
            "Recall:     93.48\n",
            "F1-Score:   93.32\n"
          ]
        },
        {
          "data": {
            "image/png": "[encoded data removed]",
            "text/plain": [
              "<Figure size 720x576 with 2 Axes>"
            ]
          },
          "metadata": {
            "needs_background": "light"
          },
          "output_type": "display_data"
        }
      ],
      "source": [
        "# runing model with previously found best parameters\n",
        "model = MLPClassifier(hidden_layer_sizes=(256, 256, 128, 64),activation='tanh')\n",
        "model.fit(x_train_bow, y_train_bow)\n",
        "\n",
        "y_pred = model.predict(x_test_bow)\n",
        "evaluate(y_test_bow, y_pred)"
      ]
    },
    {
      "cell_type": "markdown",
      "metadata": {
        "id": "OtEVQ16edxao"
      },
      "source": [
        "# Embeddings"
      ]
    },
    {
      "cell_type": "markdown",
      "metadata": {
        "id": "yfXwUvy7kNQM"
      },
      "source": [
        "Tuning"
      ]
    },
    {
      "cell_type": "code",
      "execution_count": null,
      "metadata": {
        "colab": {
          "base_uri": "https://localhost:8080/"
        },
        "id": "V5s7ikFTSeb1",
        "outputId": "298c8e12-9f4d-4b83-a713-cdbbb39da231"
      },
      "outputs": [
        {
          "name": "stderr",
          "output_type": "stream",
          "text": [
            "/usr/local/lib/python3.8/dist-packages/sklearn/neural_network/_multilayer_perceptron.py:692: ConvergenceWarning: Stochastic Optimizer: Maximum iterations (200) reached and the optimization hasn't converged yet.\n",
            "  warnings.warn(\n",
            "/usr/local/lib/python3.8/dist-packages/sklearn/neural_network/_multilayer_perceptron.py:692: ConvergenceWarning: Stochastic Optimizer: Maximum iterations (200) reached and the optimization hasn't converged yet.\n",
            "  warnings.warn(\n",
            "/usr/local/lib/python3.8/dist-packages/sklearn/neural_network/_multilayer_perceptron.py:692: ConvergenceWarning: Stochastic Optimizer: Maximum iterations (200) reached and the optimization hasn't converged yet.\n",
            "  warnings.warn(\n"
          ]
        },
        {
          "data": {
            "text/plain": [
              "{'activation': 'relu'}"
            ]
          },
          "execution_count": 90,
          "metadata": {},
          "output_type": "execute_result"
        }
      ],
      "source": [
        "# using GridSearhCV to tune hyperparameters for NN using Embedding feature set\n",
        "\n",
        "params = {                                                        #tuning activation function\n",
        "    \"activation\": ['identity','logistic','tanh','relu']\n",
        "    \n",
        "}\n",
        "\n",
        "\n",
        "\n",
        "nn=MLPClassifier(hidden_layer_sizes=(256, 256, 128, 64))\n",
        "\n",
        "clf = GridSearchCV(nn, params)\n",
        "search = clf.fit(x_train_emb[:500], y_train_emb[:500])\n",
        "search.best_params_"
      ]
    },
    {
      "cell_type": "markdown",
      "metadata": {
        "id": "5awZRBtRkPV8"
      },
      "source": [
        "Cross Validation"
      ]
    },
    {
      "cell_type": "code",
      "execution_count": null,
      "metadata": {
        "colab": {
          "base_uri": "https://localhost:8080/",
          "height": 497
        },
        "id": "9G13cMnEf4xQ",
        "outputId": "2c5c527d-265d-4ef8-c4d1-3bad0d286d0c"
      },
      "outputs": [
        {
          "data": {
            "image/png": "[encoded data removed]",
            "text/plain": [
              "<Figure size 720x576 with 1 Axes>"
            ]
          },
          "metadata": {
            "needs_background": "light"
          },
          "output_type": "display_data"
        }
      ],
      "source": [
        "nn=MLPClassifier(hidden_layer_sizes=(256, 256, 128, 64),activation='relu')\n",
        "cross_validate_plot(nn,x_train_emb,y_train_emb)"
      ]
    },
    {
      "cell_type": "markdown",
      "metadata": {
        "id": "Lte8Ja5lkZMg"
      },
      "source": [
        "Runing Final Model"
      ]
    },
    {
      "cell_type": "code",
      "execution_count": null,
      "metadata": {
        "colab": {
          "base_uri": "https://localhost:8080/",
          "height": 649
        },
        "id": "FUN8bg4pbjD8",
        "outputId": "2a67f6d2-e5e6-4cf1-fd70-992da957b2be"
      },
      "outputs": [
        {
          "name": "stdout",
          "output_type": "stream",
          "text": [
            "Accuracy:   89.63\n",
            "Precision:  89.60\n",
            "Recall:     89.82\n",
            "F1-Score:   89.69\n"
          ]
        },
        {
          "data": {
            "image/png": "[encoded data removed]",
            "text/plain": [
              "<Figure size 720x576 with 2 Axes>"
            ]
          },
          "metadata": {
            "needs_background": "light"
          },
          "output_type": "display_data"
        }
      ],
      "source": [
        "# runing model with previously found best parameters\n",
        "model = MLPClassifier(hidden_layer_sizes=(256, 128, 128),activation='relu')\n",
        "model.fit(x_train_emb, y_train_emb)\n",
        "\n",
        "y_pred = model.predict(x_test_emb)\n",
        "evaluate(y_test_emb, y_pred)"
      ]
    },
    {
      "cell_type": "markdown",
      "metadata": {
        "id": "lE-mzsZCHnAl"
      },
      "source": [
        "## Ensemble Methods"
      ]
    },
    {
      "cell_type": "markdown",
      "metadata": {
        "id": "X4hm70OqIkPb"
      },
      "source": [
        "## BOW"
      ]
    },
    {
      "cell_type": "code",
      "execution_count": null,
      "metadata": {
        "id": "7pLajTakbjD8"
      },
      "outputs": [],
      "source": [
        "# cross validation for finding best emsemble method using bag of words feature set\n",
        "labels = [\"Bagging\", \"Ada Boost\", \"Random Forest\"]\n",
        "metrics = []\n",
        "methods = [BaggingClassifier, AdaBoostClassifier, RandomForestClassifier]\n",
        "\n",
        "for method in methods:\n",
        "    y_pred = cross_val_predict(method(), x_train_bow, y_train_bow)\n",
        "    metrics.append(accuracy_score(y_train_bow, y_pred))"
      ]
    },
    {
      "cell_type": "code",
      "execution_count": null,
      "metadata": {
        "colab": {
          "base_uri": "https://localhost:8080/",
          "height": 497
        },
        "id": "U57ugQ5UJflY",
        "outputId": "d29a5ad8-ed25-4b5b-b659-8b0882819787"
      },
      "outputs": [
        {
          "data": {
            "image/png": "[encoded data removed]",
            "text/plain": [
              "<Figure size 720x576 with 1 Axes>"
            ]
          },
          "metadata": {
            "needs_background": "light"
          },
          "output_type": "display_data"
        }
      ],
      "source": [
        "plt.figure(figsize=(10, 8))\n",
        "sns.barplot(x=labels, y=metrics)\n",
        "plt.xlabel(\"Methods\")\n",
        "plt.ylabel(\"Accuracy\")\n",
        "plt.show()"
      ]
    },
    {
      "cell_type": "markdown",
      "metadata": {
        "id": "fjkFeUQ4LHaw"
      },
      "source": [
        "## Tuning Random Forest"
      ]
    },
    {
      "cell_type": "code",
      "execution_count": null,
      "metadata": {
        "colab": {
          "base_uri": "https://localhost:8080/"
        },
        "id": "0TCuRi6DLG2i",
        "outputId": "6f26e6d8-ed24-43b0-e642-8d5af73b0db1"
      },
      "outputs": [
        {
          "data": {
            "text/plain": [
              "{'max_depth': 80, 'max_features': 'log2', 'n_estimators': 180}"
            ]
          },
          "execution_count": 93,
          "metadata": {},
          "output_type": "execute_result"
        }
      ],
      "source": [
        "# Random forest chosen as best emsemle method for bag of word feature set\n",
        "# finding best parameters for random forest using bag of words feature set\n",
        "params = {\n",
        "    \"n_estimators\": np.linspace(100, 200, 11, dtype=int), \n",
        "    \"max_depth\": np.linspace(10, 120, 12, dtype=int),\n",
        "    \"max_features\": [\"sqrt\", \"log2\", None]\n",
        "}\n",
        "\n",
        "model = RandomForestClassifier(random_state = 0)\n",
        "\n",
        "clf = GridSearchCV(model, params)\n",
        "search = clf.fit(x_train_bow[:500], y_train_bow[:500])\n",
        "search.best_params_"
      ]
    },
    {
      "cell_type": "code",
      "execution_count": null,
      "metadata": {
        "colab": {
          "base_uri": "https://localhost:8080/",
          "height": 649
        },
        "id": "h8hnQm2NJvdV",
        "outputId": "e39f5c4b-7a2e-4408-f33b-2e7e05e6c48e"
      },
      "outputs": [
        {
          "name": "stdout",
          "output_type": "stream",
          "text": [
            "Accuracy:   90.01\n",
            "Precision:  90.69\n",
            "Recall:     90.00\n",
            "F1-Score:   90.10\n"
          ]
        },
        {
          "data": {
            "image/png": "[encoded data removed]",
            "text/plain": [
              "<Figure size 720x576 with 2 Axes>"
            ]
          },
          "metadata": {
            "needs_background": "light"
          },
          "output_type": "display_data"
        }
      ],
      "source": [
        "# runing model with previously found best parameters\n",
        "model = RandomForestClassifier(n_estimators=180, max_depth=80, max_features=\"log2\")\n",
        "model.fit(x_train_bow, y_train_bow)\n",
        "\n",
        "y_pred = model.predict(x_test_bow)\n",
        "evaluate(y_test_bow, y_pred)"
      ]
    },
    {
      "cell_type": "markdown",
      "metadata": {
        "id": "jkt1IqsvNEeJ"
      },
      "source": [
        "## Embeddings"
      ]
    },
    {
      "cell_type": "code",
      "execution_count": null,
      "metadata": {
        "id": "uFHuySyWNF8h"
      },
      "outputs": [],
      "source": [
        "# cross validation for finding best emsemble method using embedding feature set\n",
        "labels = [\"Bagging\", \"Ada Boost\", \"Random Forest\"]\n",
        "metrics = []\n",
        "methods = [BaggingClassifier, AdaBoostClassifier, RandomForestClassifier]\n",
        "\n",
        "for method in methods:\n",
        "    y_pred = cross_val_predict(method(), x_train_emb, y_train_emb)\n",
        "    metrics.append(accuracy_score(y_train_emb, y_pred))"
      ]
    },
    {
      "cell_type": "code",
      "execution_count": null,
      "metadata": {
        "colab": {
          "base_uri": "https://localhost:8080/",
          "height": 497
        },
        "id": "CBTpqyXeOnlD",
        "outputId": "405a216f-a830-4e61-fdeb-20baf44edd22"
      },
      "outputs": [
        {
          "data": {
            "image/png": "[encoded data removed]",
            "text/plain": [
              "<Figure size 720x576 with 1 Axes>"
            ]
          },
          "metadata": {
            "needs_background": "light"
          },
          "output_type": "display_data"
        }
      ],
      "source": [
        "plt.figure(figsize=(10, 8))\n",
        "sns.barplot(x=labels, y=metrics)\n",
        "plt.xlabel(\"Methods\")\n",
        "plt.ylabel(\"Accuracy\")\n",
        "plt.show()"
      ]
    },
    {
      "cell_type": "markdown",
      "metadata": {
        "id": "7600-kKYPLyp"
      },
      "source": [
        "## Tuning Random Forest"
      ]
    },
    {
      "cell_type": "code",
      "execution_count": 144,
      "metadata": {
        "colab": {
          "base_uri": "https://localhost:8080/"
        },
        "id": "jJzYfPMJ93cX",
        "outputId": "b31f0787-8fc1-4b95-f6c9-438100ddec94"
      },
      "outputs": [
        {
          "data": {
            "text/plain": [
              "{'n_estimators': 350, 'max_features': 'log2', 'max_depth': 132}"
            ]
          },
          "execution_count": 144,
          "metadata": {},
          "output_type": "execute_result"
        }
      ],
      "source": [
        "params = {\n",
        "    \"n_estimators\": np.linspace(200, 350, 11, dtype=int), \n",
        "    \"max_depth\": np.linspace(60, 160, 12, dtype=int),\n",
        "    \"max_features\": [\"sqrt\", \"log2\", None]\n",
        "}\n",
        "\n",
        "model = RandomForestClassifier(random_state = 0)\n",
        "\n",
        "clf = RandomizedSearchCV(model, params)\n",
        "search = clf.fit(x_train_emb[:500], y_train_emb[:500])\n",
        "search.best_params_"
      ]
    },
    {
      "cell_type": "code",
      "execution_count": 154,
      "metadata": {
        "colab": {
          "base_uri": "https://localhost:8080/",
          "height": 649
        },
        "id": "mmOiNE1m8zMp",
        "outputId": "6e9fa7df-758a-4ba2-f2a8-ea9e0c7d3729"
      },
      "outputs": [
        {
          "name": "stdout",
          "output_type": "stream",
          "text": [
            "Accuracy:   91.15\n",
            "Precision:  91.34\n",
            "Recall:     91.26\n",
            "F1-Score:   91.17\n"
          ]
        },
        {
          "data": {
            "image/png": "[encoded data removed]",
            "text/plain": [
              "<Figure size 720x576 with 2 Axes>"
            ]
          },
          "metadata": {
            "needs_background": "light"
          },
          "output_type": "display_data"
        }
      ],
      "source": [
        "model = RandomForestClassifier(n_estimators=350, max_depth=132, max_features=\"log2\")\n",
        "model.fit(x_train_emb, y_train_emb)\n",
        "\n",
        "y_pred = model.predict(x_test_emb)\n",
        "evaluate(y_test_emb, y_pred)"
      ]
    },
    {
      "cell_type": "markdown",
      "metadata": {
        "id": "rY7rDZDhzLBP"
      },
      "source": [
        "**Task 4**\n",
        "\n",
        "Q1: Which model performed best and why do you think that is? \n",
        "\n",
        "A1: In our tests, the Random Forest (RF) ensemble model with embeddings implemented produced the best performance for the authorship attribution problem, achieving an accuracy of 91% on our test set. We believe this is due to the resilience of the RF model to the issue of noise and outliers in our feature set.\n",
        "\n",
        "Embedding the tweet data (i.e., producing a low-dimensional numerical representation of the tweets) with the “all-MiniLM-L6-v2” transformer model pairs nicely with the RF approach, since any noise that was left behind after embedding will be handled by the model. \n",
        "\n",
        "Furthermore, the RF model is resistant to overfitting because it averages the results of each tree at each iteration (reducing the overall variance while keeping the bias the same). \n",
        "\n",
        "The NN and kNN models, on the other hand, are not as resistant to overfitting (which is an issue due to the heavily contextual nature of the tweets and the overlap between our political account data (i.e., White House, Downing Street, etc.)).\n",
        "\n",
        "Q2: Which features gave better results for each model? \n",
        "\n",
        "A2: In the case of our kNN model, the embedded features gave better results (a whopping 92% versus the 65% produced using the bag of words features). This is hardly surprising, seeing as the bag of words features are very sparse in nature. This makes it very difficult for the kNN model to perform well on them, since such models suffer from the curse of dimensionality (i.e., the issue that arises as a result of there being no \"near\" features). Hence, the kNN model performs many orders of magnitude better on the more dense embedded data.\n",
        "\n",
        "In the case of our ensemble Random Forest (RF) model, the embeddings also gave much better results (and here, it was at least comparable with the bag of words features producing an accuracy of 90% vs. the 91% accuracy recorded using the embedded data). Using the tranformer model to embed our data effectively stores the *context* of each tweet in the feature set while also reducing the dimensionality of the data. This is, of course, vital for a use case as context-dependent as authorship attribution using scraped tweets, and this was reflected in the high accuracy that our RF model reported.\n",
        "\n",
        "In the case of the NN model, however, we did observe that the embedded features performed to a lower degree of accuracy than the bag of words feature set. One possible explanation for this is that since the MLPClassifier has a number of parameters with many ranges in between, we could not run GridSearhCV or RandomizedSearchCV exhaustively (simply due to a shortage of time). \n",
        "\n",
        "Hence it is possible that we did not achieve the highest possible accuracy the Neural Network Model using embeddings. The current accuracy of about 90% for embedded data and 93% for the bag of words feature set is still considerable, however. To our surprise, the NN model was able to tackle the sparse bag of words feature set quite well. \n",
        "\n",
        "Q3: What effect would increasing the classes to 150 have?\n",
        "\n",
        "A3: Adding more classes to the data can make the model more complex and can require more data to train the model accurately. This can make the training process more time-consuming and can also increase the risk of overfitting, where the model performs well on the training data but poorly on unseen data.\n",
        "\n",
        "When working with a k-nearest neighbors (k-NN) predictive model, increasing the number of classes in the data would typically increase the complexity of the model, since the number of classes would require further computations.\n",
        "\n",
        "In the case of the random forest,  increasing the number of classes in the data would not necessarily affect the performance of the random forest model, since the model is designed to handle multi-class classification problems. However, it is worth noting that increasing the number of classes would likely increase the complexity of the model, and might require more trees in the forest to achieve good performance. Additionally, the larger number of classes could potentially make it more challenging to interpret the predictions made by the model.\n",
        "\n",
        "Finally, in the case of the NN model,  increasing the number of classes in the data would also typically increase the complexity of the model. This is because  the output layer of an NN model typically has one neuron for each class, and the neurons use a softmax activation function to produce a probability distribution over the classes. Increasing the number of classes to 150 would greatly increase the computation required. \n",
        "\n",
        "Q4: Suggest improvements to text preparation, feature extraction, and models that can be made\n",
        "to perform this task better.\n",
        "\n",
        "A4: Given more time, we would have liked to run the gridsearch cross validation function for our Neural Network model to exhaustively find the most suitable hyperparameters. \n",
        "\n",
        "We could also use more advanced techniques to tokenize the text and extract useful features, such as n-grams, and part-of-speech tags. These features can capture important information about the context and meaning of the words, possibly to a greater extent than our current embedded data does. \n",
        "\n",
        "We can also remove certain words that overlap across classes (since three of our classes have political contexts and hence would interfere with each other's classification (i.e., the White House, Downing Street, and Mia Mottley)). Ultimately, our goal is to carefully analyze the data and experiment with different approaches to find the best solution.\n",
        "\n",
        "Q5: What - in your understanding - are the applications of authorship attribution?\n",
        "\n",
        "A5:  In our understanding, authorship attribution is the process of identifying the author of a given text. \n",
        "\n",
        "This can be useful in a variety of contexts, such as in forensic linguistics to identify the author of an anonymous or pseudonymous document, or in the study of literature to attribute texts to specific authors. \n",
        "\n",
        "It can also be used to detect plagiarism by comparing the writing style of a given text to that of known authors. In general, authorship attribution can provide valuable insights into the relationship between language and identity."
      ]
    }
  ],
  "metadata": {
    "accelerator": "GPU",
    "colab": {
      "collapsed_sections": [
        "dwQhMBEebjD8"
      ],
      "provenance": []
    },
    "gpuClass": "standard",
    "kernelspec": {
      "display_name": "Python 3 (ipykernel)",
      "language": "python",
      "name": "python3"
    },
    "language_info": {
      "codemirror_mode": {
        "name": "ipython",
        "version": 3
      },
      "file_extension": ".py",
      "mimetype": "text/x-python",
      "name": "python",
      "nbconvert_exporter": "python",
      "pygments_lexer": "ipython3",
      "version": "3.10.6"
    }
  },
  "nbformat": 4,
  "nbformat_minor": 0
}
